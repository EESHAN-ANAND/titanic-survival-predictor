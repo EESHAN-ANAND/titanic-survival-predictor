{
 "cells": [
  {
   "cell_type": "code",
   "execution_count": 1,
   "id": "af1ca20b",
   "metadata": {
    "_cell_guid": "b1076dfc-b9ad-4769-8c92-a6c4dae69d19",
    "_uuid": "8f2839f25d086af736a60e9eeb907d3b93b6e0e5",
    "execution": {
     "iopub.execute_input": "2023-04-16T13:30:58.905345Z",
     "iopub.status.busy": "2023-04-16T13:30:58.904837Z",
     "iopub.status.idle": "2023-04-16T13:30:58.923256Z",
     "shell.execute_reply": "2023-04-16T13:30:58.920914Z"
    },
    "papermill": {
     "duration": 0.033483,
     "end_time": "2023-04-16T13:30:58.926300",
     "exception": false,
     "start_time": "2023-04-16T13:30:58.892817",
     "status": "completed"
    },
    "tags": []
   },
   "outputs": [],
   "source": [
    "# This Python 3 environment comes with many helpful analytics libraries installed\n",
    "# It is defined by the kaggle/python Docker image: https://github.com/kaggle/docker-python\n",
    "# For example, here's several helpful packages to load\n",
    "\n",
    "import numpy as np # linear algebra\n",
    "import pandas as pd # data processing, CSV file I/O (e.g. pd.read_csv)\n",
    "\n",
    "# Input data files are available in the read-only \"../input/\" directory\n",
    "# For example, running this (by clicking run or pressing Shift+Enter) will list all files under the input directory\n",
    "\n",
    "# import os\n",
    "# for dirname, _, filenames in os.walk('/kaggle/input'):\n",
    "#     for filename in filenames:\n",
    "#         print(os.path.join(dirname, filename))\n",
    "\n",
    "# You can write up to 20GB to the current directory (/kaggle/working/) that gets preserved as output when you create a version using \"Save & Run All\" \n",
    "# You can also write temporary files to /kaggle/temp/, but they won't be saved outside of the current session"
   ]
  },
  {
   "cell_type": "code",
   "execution_count": 2,
   "id": "72ef8f41",
   "metadata": {
    "execution": {
     "iopub.execute_input": "2023-04-16T13:30:58.947558Z",
     "iopub.status.busy": "2023-04-16T13:30:58.945770Z",
     "iopub.status.idle": "2023-04-16T13:31:00.272816Z",
     "shell.execute_reply": "2023-04-16T13:31:00.271390Z"
    },
    "papermill": {
     "duration": 1.340994,
     "end_time": "2023-04-16T13:31:00.276322",
     "exception": false,
     "start_time": "2023-04-16T13:30:58.935328",
     "status": "completed"
    },
    "tags": []
   },
   "outputs": [],
   "source": [
    "import matplotlib.pyplot as plt\n",
    "import seaborn as sns"
   ]
  },
  {
   "cell_type": "code",
   "execution_count": 3,
   "id": "e120dbc9",
   "metadata": {
    "execution": {
     "iopub.execute_input": "2023-04-16T13:31:00.297755Z",
     "iopub.status.busy": "2023-04-16T13:31:00.296277Z",
     "iopub.status.idle": "2023-04-16T13:31:00.333527Z",
     "shell.execute_reply": "2023-04-16T13:31:00.332431Z"
    },
    "papermill": {
     "duration": 0.050339,
     "end_time": "2023-04-16T13:31:00.335839",
     "exception": false,
     "start_time": "2023-04-16T13:31:00.285500",
     "status": "completed"
    },
    "tags": []
   },
   "outputs": [
    {
     "data": {
      "text/plain": [
       "((891, 12), (418, 11))"
      ]
     },
     "execution_count": 3,
     "metadata": {},
     "output_type": "execute_result"
    }
   ],
   "source": [
    "df_train=pd.read_csv('train.csv')\n",
    "df_test=pd.read_csv('test.csv')\n",
    "df_train.shape, df_test.shape"
   ]
  },
  {
   "cell_type": "code",
   "execution_count": 4,
   "id": "434cf53a",
   "metadata": {
    "execution": {
     "iopub.execute_input": "2023-04-16T13:31:00.356031Z",
     "iopub.status.busy": "2023-04-16T13:31:00.354987Z",
     "iopub.status.idle": "2023-04-16T13:31:00.369717Z",
     "shell.execute_reply": "2023-04-16T13:31:00.368619Z"
    },
    "papermill": {
     "duration": 0.028119,
     "end_time": "2023-04-16T13:31:00.372742",
     "exception": false,
     "start_time": "2023-04-16T13:31:00.344623",
     "status": "completed"
    },
    "tags": []
   },
   "outputs": [
    {
     "data": {
      "text/plain": [
       "PassengerId      0\n",
       "Survived         0\n",
       "Pclass           0\n",
       "Name             0\n",
       "Sex              0\n",
       "Age            177\n",
       "SibSp            0\n",
       "Parch            0\n",
       "Ticket           0\n",
       "Fare             0\n",
       "Cabin          687\n",
       "Embarked         2\n",
       "dtype: int64"
      ]
     },
     "execution_count": 4,
     "metadata": {},
     "output_type": "execute_result"
    }
   ],
   "source": [
    "#the most important thing to do in imputation\n",
    "df_train.isnull().sum()"
   ]
  },
  {
   "cell_type": "code",
   "execution_count": 5,
   "id": "29a77c1c",
   "metadata": {
    "execution": {
     "iopub.execute_input": "2023-04-16T13:31:00.397637Z",
     "iopub.status.busy": "2023-04-16T13:31:00.396263Z",
     "iopub.status.idle": "2023-04-16T13:31:00.408312Z",
     "shell.execute_reply": "2023-04-16T13:31:00.407359Z"
    },
    "papermill": {
     "duration": 0.028125,
     "end_time": "2023-04-16T13:31:00.410610",
     "exception": false,
     "start_time": "2023-04-16T13:31:00.382485",
     "status": "completed"
    },
    "tags": []
   },
   "outputs": [
    {
     "data": {
      "text/plain": [
       "PassengerId      0\n",
       "Pclass           0\n",
       "Name             0\n",
       "Sex              0\n",
       "Age             86\n",
       "SibSp            0\n",
       "Parch            0\n",
       "Ticket           0\n",
       "Fare             1\n",
       "Cabin          327\n",
       "Embarked         0\n",
       "dtype: int64"
      ]
     },
     "execution_count": 5,
     "metadata": {},
     "output_type": "execute_result"
    }
   ],
   "source": [
    "df_test.isnull().sum()"
   ]
  },
  {
   "cell_type": "code",
   "execution_count": 6,
   "id": "3b1a2192",
   "metadata": {
    "execution": {
     "iopub.execute_input": "2023-04-16T13:31:00.432888Z",
     "iopub.status.busy": "2023-04-16T13:31:00.431916Z",
     "iopub.status.idle": "2023-04-16T13:31:00.443197Z",
     "shell.execute_reply": "2023-04-16T13:31:00.442121Z"
    },
    "papermill": {
     "duration": 0.025878,
     "end_time": "2023-04-16T13:31:00.446204",
     "exception": false,
     "start_time": "2023-04-16T13:31:00.420326",
     "status": "completed"
    },
    "tags": []
   },
   "outputs": [],
   "source": [
    "df_test['Fare']=df_test['Fare'].fillna(df_train['Fare'].median())"
   ]
  },
  {
   "cell_type": "code",
   "execution_count": 7,
   "id": "11856b51",
   "metadata": {
    "execution": {
     "iopub.execute_input": "2023-04-16T13:31:00.468104Z",
     "iopub.status.busy": "2023-04-16T13:31:00.467112Z",
     "iopub.status.idle": "2023-04-16T13:31:00.756446Z",
     "shell.execute_reply": "2023-04-16T13:31:00.754689Z"
    },
    "papermill": {
     "duration": 0.303999,
     "end_time": "2023-04-16T13:31:00.759856",
     "exception": false,
     "start_time": "2023-04-16T13:31:00.455857",
     "status": "completed"
    },
    "tags": []
   },
   "outputs": [
    {
     "data": {
      "text/plain": [
       "<Axes: xlabel='Embarked', ylabel='count'>"
      ]
     },
     "execution_count": 7,
     "metadata": {},
     "output_type": "execute_result"
    },
    {
     "data": {
      "image/png": "[encoded data removed]",
      "text/plain": [
       "<Figure size 640x480 with 1 Axes>"
      ]
     },
     "metadata": {},
     "output_type": "display_data"
    }
   ],
   "source": [
    "#we have one column missing 2 data missing in the Embarked training columns, lets impute it\n",
    "sns.countplot(x=df_train['Embarked'], hue=df_train['Sex'])"
   ]
  },
  {
   "cell_type": "code",
   "execution_count": 8,
   "id": "5fa33f4b",
   "metadata": {
    "execution": {
     "iopub.execute_input": "2023-04-16T13:31:00.784890Z",
     "iopub.status.busy": "2023-04-16T13:31:00.784487Z",
     "iopub.status.idle": "2023-04-16T13:31:00.813850Z",
     "shell.execute_reply": "2023-04-16T13:31:00.812770Z"
    },
    "papermill": {
     "duration": 0.044451,
     "end_time": "2023-04-16T13:31:00.816465",
     "exception": false,
     "start_time": "2023-04-16T13:31:00.772014",
     "status": "completed"
    },
    "tags": []
   },
   "outputs": [
    {
     "data": {
      "text/html": [
       "<div>\n",
       "<style scoped>\n",
       "    .dataframe tbody tr th:only-of-type {\n",
       "        vertical-align: middle;\n",
       "    }\n",
       "\n",
       "    .dataframe tbody tr th {\n",
       "        vertical-align: top;\n",
       "    }\n",
       "\n",
       "    .dataframe thead th {\n",
       "        text-align: right;\n",
       "    }\n",
       "</style>\n",
       "<table border=\"1\" class=\"dataframe\">\n",
       "  <thead>\n",
       "    <tr style=\"text-align: right;\">\n",
       "      <th></th>\n",
       "      <th>PassengerId</th>\n",
       "      <th>Survived</th>\n",
       "      <th>Pclass</th>\n",
       "      <th>Name</th>\n",
       "      <th>Sex</th>\n",
       "      <th>Age</th>\n",
       "      <th>SibSp</th>\n",
       "      <th>Parch</th>\n",
       "      <th>Ticket</th>\n",
       "      <th>Fare</th>\n",
       "      <th>Cabin</th>\n",
       "      <th>Embarked</th>\n",
       "    </tr>\n",
       "  </thead>\n",
       "  <tbody>\n",
       "    <tr>\n",
       "      <th>61</th>\n",
       "      <td>62</td>\n",
       "      <td>1</td>\n",
       "      <td>1</td>\n",
       "      <td>Icard, Miss. Amelie</td>\n",
       "      <td>female</td>\n",
       "      <td>38.0</td>\n",
       "      <td>0</td>\n",
       "      <td>0</td>\n",
       "      <td>113572</td>\n",
       "      <td>80.0</td>\n",
       "      <td>B28</td>\n",
       "      <td>NaN</td>\n",
       "    </tr>\n",
       "    <tr>\n",
       "      <th>829</th>\n",
       "      <td>830</td>\n",
       "      <td>1</td>\n",
       "      <td>1</td>\n",
       "      <td>Stone, Mrs. George Nelson (Martha Evelyn)</td>\n",
       "      <td>female</td>\n",
       "      <td>62.0</td>\n",
       "      <td>0</td>\n",
       "      <td>0</td>\n",
       "      <td>113572</td>\n",
       "      <td>80.0</td>\n",
       "      <td>B28</td>\n",
       "      <td>NaN</td>\n",
       "    </tr>\n",
       "  </tbody>\n",
       "</table>\n",
       "</div>"
      ],
      "text/plain": [
       "     PassengerId  Survived  Pclass                                       Name  \\\n",
       "61            62         1       1                        Icard, Miss. Amelie   \n",
       "829          830         1       1  Stone, Mrs. George Nelson (Martha Evelyn)   \n",
       "\n",
       "        Sex   Age  SibSp  Parch  Ticket  Fare Cabin Embarked  \n",
       "61   female  38.0      0      0  113572  80.0   B28      NaN  \n",
       "829  female  62.0      0      0  113572  80.0   B28      NaN  "
      ]
     },
     "execution_count": 8,
     "metadata": {},
     "output_type": "execute_result"
    }
   ],
   "source": [
    "df_train[df_train['Embarked'].isnull()]\n",
    "#lets get all the passenger in the df_train such that their embarked is null"
   ]
  },
  {
   "cell_type": "code",
   "execution_count": 9,
   "id": "b4d27d13",
   "metadata": {
    "execution": {
     "iopub.execute_input": "2023-04-16T13:31:00.839525Z",
     "iopub.status.busy": "2023-04-16T13:31:00.838957Z",
     "iopub.status.idle": "2023-04-16T13:31:01.382343Z",
     "shell.execute_reply": "2023-04-16T13:31:01.380615Z"
    },
    "papermill": {
     "duration": 0.55934,
     "end_time": "2023-04-16T13:31:01.385795",
     "exception": false,
     "start_time": "2023-04-16T13:31:00.826455",
     "status": "completed"
    },
    "tags": []
   },
   "outputs": [
    {
     "data": {
      "text/plain": [
       "<seaborn.axisgrid.FacetGrid at 0x29d3b90e020>"
      ]
     },
     "execution_count": 9,
     "metadata": {},
     "output_type": "execute_result"
    },
    {
     "data": {
      "image/png": "[encoded data removed]",
      "text/plain": [
       "<Figure size 598x500 with 1 Axes>"
      ]
     },
     "metadata": {},
     "output_type": "display_data"
    }
   ],
   "source": [
    "sns.catplot(x='Embarked', y='Fare', kind='bar', hue='Sex', data=df_train)\n",
    "#this shows that the female having a high fare actually used the C Embarked"
   ]
  },
  {
   "cell_type": "code",
   "execution_count": 10,
   "id": "5cb47226",
   "metadata": {
    "execution": {
     "iopub.execute_input": "2023-04-16T13:31:01.408218Z",
     "iopub.status.busy": "2023-04-16T13:31:01.407786Z",
     "iopub.status.idle": "2023-04-16T13:31:01.851568Z",
     "shell.execute_reply": "2023-04-16T13:31:01.849887Z"
    },
    "papermill": {
     "duration": 0.458618,
     "end_time": "2023-04-16T13:31:01.854676",
     "exception": false,
     "start_time": "2023-04-16T13:31:01.396058",
     "status": "completed"
    },
    "tags": []
   },
   "outputs": [
    {
     "data": {
      "text/plain": [
       "<seaborn.axisgrid.FacetGrid at 0x29d3b90e7a0>"
      ]
     },
     "execution_count": 10,
     "metadata": {},
     "output_type": "execute_result"
    },
    {
     "data": {
      "image/png": "[encoded data removed]",
      "text/plain": [
       "<Figure size 572.111x500 with 1 Axes>"
      ]
     },
     "metadata": {},
     "output_type": "display_data"
    }
   ],
   "source": [
    "sns.catplot(x='Embarked', y='Fare', kind='bar', hue='Survived', data=df_train)"
   ]
  },
  {
   "cell_type": "code",
   "execution_count": 11,
   "id": "9e17c83b",
   "metadata": {
    "execution": {
     "iopub.execute_input": "2023-04-16T13:31:01.879874Z",
     "iopub.status.busy": "2023-04-16T13:31:01.879449Z",
     "iopub.status.idle": "2023-04-16T13:31:01.892817Z",
     "shell.execute_reply": "2023-04-16T13:31:01.891372Z"
    },
    "papermill": {
     "duration": 0.030053,
     "end_time": "2023-04-16T13:31:01.896371",
     "exception": false,
     "start_time": "2023-04-16T13:31:01.866318",
     "status": "completed"
    },
    "tags": []
   },
   "outputs": [
    {
     "data": {
      "text/plain": [
       "PassengerId      0\n",
       "Survived         0\n",
       "Pclass           0\n",
       "Name             0\n",
       "Sex              0\n",
       "Age            177\n",
       "SibSp            0\n",
       "Parch            0\n",
       "Ticket           0\n",
       "Fare             0\n",
       "Cabin          687\n",
       "Embarked         0\n",
       "dtype: int64"
      ]
     },
     "execution_count": 11,
     "metadata": {},
     "output_type": "execute_result"
    }
   ],
   "source": [
    "df_train['Embarked']=df_train['Embarked'].fillna('C')\n",
    "df_train.isnull().sum()"
   ]
  },
  {
   "cell_type": "code",
   "execution_count": 12,
   "id": "622c8e6c",
   "metadata": {
    "execution": {
     "iopub.execute_input": "2023-04-16T13:31:01.924984Z",
     "iopub.status.busy": "2023-04-16T13:31:01.924463Z",
     "iopub.status.idle": "2023-04-16T13:31:02.116346Z",
     "shell.execute_reply": "2023-04-16T13:31:02.115161Z"
    },
    "papermill": {
     "duration": 0.208991,
     "end_time": "2023-04-16T13:31:02.118938",
     "exception": false,
     "start_time": "2023-04-16T13:31:01.909947",
     "status": "completed"
    },
    "tags": []
   },
   "outputs": [
    {
     "name": "stderr",
     "output_type": "stream",
     "text": [
      "C:\\Users\\acer\\AppData\\Local\\Temp\\ipykernel_6180\\2807771676.py:1: UserWarning: \n",
      "\n",
      "`distplot` is a deprecated function and will be removed in seaborn v0.14.0.\n",
      "\n",
      "Please adapt your code to use either `displot` (a figure-level function with\n",
      "similar flexibility) or `kdeplot` (an axes-level function for kernel density plots).\n",
      "\n",
      "For a guide to updating your code to use the new functions, please see\n",
      "https://gist.github.com/mwaskom/de44147ed2974457ad6372750bbe5751\n",
      "\n",
      "  sns.distplot(df_train[df_train['Survived']==0]['Age'], hist=False, color='Red')\n",
      "C:\\Users\\acer\\AppData\\Local\\Temp\\ipykernel_6180\\2807771676.py:2: UserWarning: \n",
      "\n",
      "`distplot` is a deprecated function and will be removed in seaborn v0.14.0.\n",
      "\n",
      "Please adapt your code to use either `displot` (a figure-level function with\n",
      "similar flexibility) or `kdeplot` (an axes-level function for kernel density plots).\n",
      "\n",
      "For a guide to updating your code to use the new functions, please see\n",
      "https://gist.github.com/mwaskom/de44147ed2974457ad6372750bbe5751\n",
      "\n",
      "  sns.distplot(df_train[df_train['Survived']==1]['Age'], hist=False, color='Blue')\n"
     ]
    },
    {
     "data": {
      "image/png": "[encoded data removed]",
      "text/plain": [
       "<Figure size 640x480 with 1 Axes>"
      ]
     },
     "metadata": {},
     "output_type": "display_data"
    }
   ],
   "source": [
    "sns.distplot(df_train[df_train['Survived']==0]['Age'], hist=False, color='Red')\n",
    "sns.distplot(df_train[df_train['Survived']==1]['Age'], hist=False, color='Blue')\n",
    "plt.show()\n",
    "#looking at the age, we"
   ]
  },
  {
   "cell_type": "code",
   "execution_count": 13,
   "id": "5ed06cce",
   "metadata": {
    "execution": {
     "iopub.execute_input": "2023-04-16T13:31:02.144489Z",
     "iopub.status.busy": "2023-04-16T13:31:02.143814Z",
     "iopub.status.idle": "2023-04-16T13:31:02.155083Z",
     "shell.execute_reply": "2023-04-16T13:31:02.153497Z"
    },
    "papermill": {
     "duration": 0.027597,
     "end_time": "2023-04-16T13:31:02.158063",
     "exception": false,
     "start_time": "2023-04-16T13:31:02.130466",
     "status": "completed"
    },
    "tags": []
   },
   "outputs": [
    {
     "data": {
      "text/plain": [
       "PassengerId      int64\n",
       "Survived         int64\n",
       "Pclass           int64\n",
       "Name            object\n",
       "Sex             object\n",
       "Age            float64\n",
       "SibSp            int64\n",
       "Parch            int64\n",
       "Ticket          object\n",
       "Fare           float64\n",
       "Cabin           object\n",
       "Embarked        object\n",
       "dtype: object"
      ]
     },
     "execution_count": 13,
     "metadata": {},
     "output_type": "execute_result"
    }
   ],
   "source": [
    "df_train.dtypes"
   ]
  },
  {
   "cell_type": "code",
   "execution_count": 14,
   "id": "df666479",
   "metadata": {
    "execution": {
     "iopub.execute_input": "2023-04-16T13:31:02.183579Z",
     "iopub.status.busy": "2023-04-16T13:31:02.183077Z",
     "iopub.status.idle": "2023-04-16T13:31:04.093504Z",
     "shell.execute_reply": "2023-04-16T13:31:04.091975Z"
    },
    "papermill": {
     "duration": 1.926766,
     "end_time": "2023-04-16T13:31:04.096312",
     "exception": false,
     "start_time": "2023-04-16T13:31:02.169546",
     "status": "completed"
    },
    "tags": []
   },
   "outputs": [
    {
     "name": "stderr",
     "output_type": "stream",
     "text": [
      "C:\\Users\\acer\\AppData\\Local\\Temp\\ipykernel_6180\\4243253022.py:16: UserWarning: \n",
      "\n",
      "`distplot` is a deprecated function and will be removed in seaborn v0.14.0.\n",
      "\n",
      "Please adapt your code to use either `displot` (a figure-level function with\n",
      "similar flexibility) or `kdeplot` (an axes-level function for kernel density plots).\n",
      "\n",
      "For a guide to updating your code to use the new functions, please see\n",
      "https://gist.github.com/mwaskom/de44147ed2974457ad6372750bbe5751\n",
      "\n",
      "  sns.distplot(t[t['Survived']==0]['Age'], hist=False, color='Red',ax=axes[index])\n",
      "C:\\Users\\acer\\AppData\\Local\\Temp\\ipykernel_6180\\4243253022.py:17: UserWarning: \n",
      "\n",
      "`distplot` is a deprecated function and will be removed in seaborn v0.14.0.\n",
      "\n",
      "Please adapt your code to use either `displot` (a figure-level function with\n",
      "similar flexibility) or `kdeplot` (an axes-level function for kernel density plots).\n",
      "\n",
      "For a guide to updating your code to use the new functions, please see\n",
      "https://gist.github.com/mwaskom/de44147ed2974457ad6372750bbe5751\n",
      "\n",
      "  sns.distplot(t[t['Survived']==1]['Age'], hist=False, color='Blue', ax=axes[index])\n",
      "C:\\Users\\acer\\AppData\\Local\\Temp\\ipykernel_6180\\4243253022.py:16: UserWarning: \n",
      "\n",
      "`distplot` is a deprecated function and will be removed in seaborn v0.14.0.\n",
      "\n",
      "Please adapt your code to use either `displot` (a figure-level function with\n",
      "similar flexibility) or `kdeplot` (an axes-level function for kernel density plots).\n",
      "\n",
      "For a guide to updating your code to use the new functions, please see\n",
      "https://gist.github.com/mwaskom/de44147ed2974457ad6372750bbe5751\n",
      "\n",
      "  sns.distplot(t[t['Survived']==0]['Age'], hist=False, color='Red',ax=axes[index])\n",
      "C:\\Users\\acer\\AppData\\Local\\Temp\\ipykernel_6180\\4243253022.py:17: UserWarning: \n",
      "\n",
      "`distplot` is a deprecated function and will be removed in seaborn v0.14.0.\n",
      "\n",
      "Please adapt your code to use either `displot` (a figure-level function with\n",
      "similar flexibility) or `kdeplot` (an axes-level function for kernel density plots).\n",
      "\n",
      "For a guide to updating your code to use the new functions, please see\n",
      "https://gist.github.com/mwaskom/de44147ed2974457ad6372750bbe5751\n",
      "\n",
      "  sns.distplot(t[t['Survived']==1]['Age'], hist=False, color='Blue', ax=axes[index])\n",
      "C:\\Users\\acer\\AppData\\Local\\Temp\\ipykernel_6180\\4243253022.py:16: UserWarning: \n",
      "\n",
      "`distplot` is a deprecated function and will be removed in seaborn v0.14.0.\n",
      "\n",
      "Please adapt your code to use either `displot` (a figure-level function with\n",
      "similar flexibility) or `kdeplot` (an axes-level function for kernel density plots).\n",
      "\n",
      "For a guide to updating your code to use the new functions, please see\n",
      "https://gist.github.com/mwaskom/de44147ed2974457ad6372750bbe5751\n",
      "\n",
      "  sns.distplot(t[t['Survived']==0]['Age'], hist=False, color='Red',ax=axes[index])\n",
      "C:\\Users\\acer\\AppData\\Local\\Temp\\ipykernel_6180\\4243253022.py:17: UserWarning: \n",
      "\n",
      "`distplot` is a deprecated function and will be removed in seaborn v0.14.0.\n",
      "\n",
      "Please adapt your code to use either `displot` (a figure-level function with\n",
      "similar flexibility) or `kdeplot` (an axes-level function for kernel density plots).\n",
      "\n",
      "For a guide to updating your code to use the new functions, please see\n",
      "https://gist.github.com/mwaskom/de44147ed2974457ad6372750bbe5751\n",
      "\n",
      "  sns.distplot(t[t['Survived']==1]['Age'], hist=False, color='Blue', ax=axes[index])\n",
      "C:\\Users\\acer\\AppData\\Local\\Temp\\ipykernel_6180\\4243253022.py:16: UserWarning: \n",
      "\n",
      "`distplot` is a deprecated function and will be removed in seaborn v0.14.0.\n",
      "\n",
      "Please adapt your code to use either `displot` (a figure-level function with\n",
      "similar flexibility) or `kdeplot` (an axes-level function for kernel density plots).\n",
      "\n",
      "For a guide to updating your code to use the new functions, please see\n",
      "https://gist.github.com/mwaskom/de44147ed2974457ad6372750bbe5751\n",
      "\n",
      "  sns.distplot(t[t['Survived']==0]['Age'], hist=False, color='Red',ax=axes[index])\n",
      "C:\\Users\\acer\\AppData\\Local\\Temp\\ipykernel_6180\\4243253022.py:17: UserWarning: \n",
      "\n",
      "`distplot` is a deprecated function and will be removed in seaborn v0.14.0.\n",
      "\n",
      "Please adapt your code to use either `displot` (a figure-level function with\n",
      "similar flexibility) or `kdeplot` (an axes-level function for kernel density plots).\n",
      "\n",
      "For a guide to updating your code to use the new functions, please see\n",
      "https://gist.github.com/mwaskom/de44147ed2974457ad6372750bbe5751\n",
      "\n",
      "  sns.distplot(t[t['Survived']==1]['Age'], hist=False, color='Blue', ax=axes[index])\n",
      "C:\\Users\\acer\\AppData\\Local\\Temp\\ipykernel_6180\\4243253022.py:16: UserWarning: \n",
      "\n",
      "`distplot` is a deprecated function and will be removed in seaborn v0.14.0.\n",
      "\n",
      "Please adapt your code to use either `displot` (a figure-level function with\n",
      "similar flexibility) or `kdeplot` (an axes-level function for kernel density plots).\n",
      "\n",
      "For a guide to updating your code to use the new functions, please see\n",
      "https://gist.github.com/mwaskom/de44147ed2974457ad6372750bbe5751\n",
      "\n",
      "  sns.distplot(t[t['Survived']==0]['Age'], hist=False, color='Red',ax=axes[index])\n",
      "C:\\Users\\acer\\AppData\\Local\\Temp\\ipykernel_6180\\4243253022.py:17: UserWarning: \n",
      "\n",
      "`distplot` is a deprecated function and will be removed in seaborn v0.14.0.\n",
      "\n",
      "Please adapt your code to use either `displot` (a figure-level function with\n",
      "similar flexibility) or `kdeplot` (an axes-level function for kernel density plots).\n",
      "\n",
      "For a guide to updating your code to use the new functions, please see\n",
      "https://gist.github.com/mwaskom/de44147ed2974457ad6372750bbe5751\n",
      "\n",
      "  sns.distplot(t[t['Survived']==1]['Age'], hist=False, color='Blue', ax=axes[index])\n",
      "C:\\Users\\acer\\AppData\\Local\\Temp\\ipykernel_6180\\4243253022.py:16: UserWarning: \n",
      "\n",
      "`distplot` is a deprecated function and will be removed in seaborn v0.14.0.\n",
      "\n",
      "Please adapt your code to use either `displot` (a figure-level function with\n",
      "similar flexibility) or `kdeplot` (an axes-level function for kernel density plots).\n",
      "\n",
      "For a guide to updating your code to use the new functions, please see\n",
      "https://gist.github.com/mwaskom/de44147ed2974457ad6372750bbe5751\n",
      "\n",
      "  sns.distplot(t[t['Survived']==0]['Age'], hist=False, color='Red',ax=axes[index])\n",
      "C:\\Users\\acer\\AppData\\Local\\Temp\\ipykernel_6180\\4243253022.py:17: UserWarning: \n",
      "\n",
      "`distplot` is a deprecated function and will be removed in seaborn v0.14.0.\n",
      "\n",
      "Please adapt your code to use either `displot` (a figure-level function with\n",
      "similar flexibility) or `kdeplot` (an axes-level function for kernel density plots).\n",
      "\n",
      "For a guide to updating your code to use the new functions, please see\n",
      "https://gist.github.com/mwaskom/de44147ed2974457ad6372750bbe5751\n",
      "\n",
      "  sns.distplot(t[t['Survived']==1]['Age'], hist=False, color='Blue', ax=axes[index])\n"
     ]
    },
    {
     "data": {
      "image/png": "[encoded data removed]",
      "text/plain": [
       "<Figure size 2400x400 with 6 Axes>"
      ]
     },
     "metadata": {},
     "output_type": "display_data"
    }
   ],
   "source": [
    "#from the above distribution graph we can conclude that the people with age 0-18 has a higher rate of survival, people between age 18-35 have a lower rate of survival,\n",
    "#people with age 36-60 have a ambiguous rate of survival whereas the people with 60 or more age has a higher rate of survival\n",
    "#we can't use the random imputed for imputin the age beacuse the distribution of age might not change if compared alone but with have a correlational impact with othet feature\n",
    "#so instead we can devide the dataset\n",
    "#but before that we must make sure that we impute the dataset\n",
    "fig, axes=plt.subplots(ncols=6, figsize=(24,4))\n",
    "from sklearn.impute import KNNImputer\n",
    "for i in range(1,12,2):\n",
    "    knn=KNNImputer(n_neighbors=i,weights='distance')\n",
    "    t=df_train.copy()\n",
    "    t.drop(columns=['PassengerId','Name','Ticket','Cabin'], inplace=True)\n",
    "    t['Sex'] = t['Sex'].map({'male': 1, 'female': 0})\n",
    "    t['Embarked']=t['Embarked'].map({'C':0, 'S':1, 'Q':2})\n",
    "    t=pd.DataFrame(knn.fit_transform(t), columns=t.columns)\n",
    "    index=int((i-1)/2)\n",
    "    sns.distplot(t[t['Survived']==0]['Age'], hist=False, color='Red',ax=axes[index])\n",
    "    sns.distplot(t[t['Survived']==1]['Age'], hist=False, color='Blue', ax=axes[index])\n",
    "    \n",
    "plt.show()\n",
    "#we can see that using the knn imputer and tuning the value to 9 gives us somewhat of the same assumption we made from the previsous observation"
   ]
  },
  {
   "cell_type": "code",
   "execution_count": 15,
   "id": "593469d0",
   "metadata": {
    "execution": {
     "iopub.execute_input": "2023-04-16T13:31:04.128408Z",
     "iopub.status.busy": "2023-04-16T13:31:04.127656Z",
     "iopub.status.idle": "2023-04-16T13:31:04.135897Z",
     "shell.execute_reply": "2023-04-16T13:31:04.134531Z"
    },
    "papermill": {
     "duration": 0.027643,
     "end_time": "2023-04-16T13:31:04.138634",
     "exception": false,
     "start_time": "2023-04-16T13:31:04.110991",
     "status": "completed"
    },
    "tags": []
   },
   "outputs": [],
   "source": [
    "#lets drop cabin and ticket as well as passengerID as it exihibit ho correaltion with the survived\n",
    "df_train.drop(columns=['Cabin', 'Ticket','PassengerId','Name'], inplace=True)\n",
    "df_test.drop(columns=['Cabin', 'Ticket','PassengerId', 'Name'], inplace=True)"
   ]
  },
  {
   "cell_type": "code",
   "execution_count": 16,
   "id": "bee7d8a1",
   "metadata": {
    "execution": {
     "iopub.execute_input": "2023-04-16T13:31:04.168791Z",
     "iopub.status.busy": "2023-04-16T13:31:04.167821Z",
     "iopub.status.idle": "2023-04-16T13:31:04.173586Z",
     "shell.execute_reply": "2023-04-16T13:31:04.172409Z"
    },
    "papermill": {
     "duration": 0.02392,
     "end_time": "2023-04-16T13:31:04.176166",
     "exception": false,
     "start_time": "2023-04-16T13:31:04.152246",
     "status": "completed"
    },
    "tags": []
   },
   "outputs": [],
   "source": [
    "def func(x):\n",
    "    if x['Parch']+x['SibSp']==0:\n",
    "        return 1\n",
    "    else:\n",
    "        return 0"
   ]
  },
  {
   "cell_type": "code",
   "execution_count": 17,
   "id": "539010f6",
   "metadata": {
    "execution": {
     "iopub.execute_input": "2023-04-16T13:31:04.205042Z",
     "iopub.status.busy": "2023-04-16T13:31:04.204621Z",
     "iopub.status.idle": "2023-04-16T13:31:04.237923Z",
     "shell.execute_reply": "2023-04-16T13:31:04.236396Z"
    },
    "papermill": {
     "duration": 0.051329,
     "end_time": "2023-04-16T13:31:04.241072",
     "exception": false,
     "start_time": "2023-04-16T13:31:04.189743",
     "status": "completed"
    },
    "tags": []
   },
   "outputs": [],
   "source": [
    "#lets make a alone columns, whether the guy(supposed to be gender neutral) was travelling alone or with their family\n",
    "df_train['Alone']=df_train.apply(func, axis=1)\n",
    "df_test['Alone']=df_test.apply(func, axis=1)"
   ]
  },
  {
   "cell_type": "code",
   "execution_count": 18,
   "id": "a24f604f",
   "metadata": {
    "execution": {
     "iopub.execute_input": "2023-04-16T13:31:04.272877Z",
     "iopub.status.busy": "2023-04-16T13:31:04.271486Z",
     "iopub.status.idle": "2023-04-16T13:31:04.282056Z",
     "shell.execute_reply": "2023-04-16T13:31:04.280311Z"
    },
    "papermill": {
     "duration": 0.029171,
     "end_time": "2023-04-16T13:31:04.284992",
     "exception": false,
     "start_time": "2023-04-16T13:31:04.255821",
     "status": "completed"
    },
    "tags": []
   },
   "outputs": [],
   "source": [
    "#hence we have got the record of the alone data, we can just rip off the data such as parch or sibsp\n",
    "df_train.drop(columns=['Parch','SibSp'], inplace=True)\n",
    "df_test.drop(columns=['Parch','SibSp'], inplace=True)"
   ]
  },
  {
   "cell_type": "code",
   "execution_count": 19,
   "id": "90095cde",
   "metadata": {
    "execution": {
     "iopub.execute_input": "2023-04-16T13:31:04.315196Z",
     "iopub.status.busy": "2023-04-16T13:31:04.314783Z",
     "iopub.status.idle": "2023-04-16T13:31:04.329252Z",
     "shell.execute_reply": "2023-04-16T13:31:04.327858Z"
    },
    "papermill": {
     "duration": 0.032931,
     "end_time": "2023-04-16T13:31:04.331997",
     "exception": false,
     "start_time": "2023-04-16T13:31:04.299066",
     "status": "completed"
    },
    "tags": []
   },
   "outputs": [],
   "source": [
    "#lets replace the embarked and age using the ordinal encoding\n",
    "from sklearn.preprocessing import OrdinalEncoder\n",
    "oe=OrdinalEncoder(categories=[['male','female'],['C','S','Q']])\n",
    "df_train[['Sex','Embarked']]=oe.fit_transform(df_train[['Sex','Embarked']])\n",
    "df_test[['Sex','Embarked']]=oe.transform(df_test[['Sex','Embarked']])"
   ]
  },
  {
   "cell_type": "code",
   "execution_count": 20,
   "id": "f9483ddc",
   "metadata": {
    "execution": {
     "iopub.execute_input": "2023-04-16T13:31:04.363085Z",
     "iopub.status.busy": "2023-04-16T13:31:04.362665Z",
     "iopub.status.idle": "2023-04-16T13:31:04.379002Z",
     "shell.execute_reply": "2023-04-16T13:31:04.377533Z"
    },
    "papermill": {
     "duration": 0.035959,
     "end_time": "2023-04-16T13:31:04.382232",
     "exception": false,
     "start_time": "2023-04-16T13:31:04.346273",
     "status": "completed"
    },
    "tags": []
   },
   "outputs": [
    {
     "data": {
      "text/html": [
       "<div>\n",
       "<style scoped>\n",
       "    .dataframe tbody tr th:only-of-type {\n",
       "        vertical-align: middle;\n",
       "    }\n",
       "\n",
       "    .dataframe tbody tr th {\n",
       "        vertical-align: top;\n",
       "    }\n",
       "\n",
       "    .dataframe thead th {\n",
       "        text-align: right;\n",
       "    }\n",
       "</style>\n",
       "<table border=\"1\" class=\"dataframe\">\n",
       "  <thead>\n",
       "    <tr style=\"text-align: right;\">\n",
       "      <th></th>\n",
       "      <th>Survived</th>\n",
       "      <th>Pclass</th>\n",
       "      <th>Sex</th>\n",
       "      <th>Age</th>\n",
       "      <th>Fare</th>\n",
       "      <th>Embarked</th>\n",
       "      <th>Alone</th>\n",
       "    </tr>\n",
       "  </thead>\n",
       "  <tbody>\n",
       "    <tr>\n",
       "      <th>0</th>\n",
       "      <td>0</td>\n",
       "      <td>3</td>\n",
       "      <td>0.0</td>\n",
       "      <td>22.0</td>\n",
       "      <td>7.2500</td>\n",
       "      <td>1.0</td>\n",
       "      <td>0</td>\n",
       "    </tr>\n",
       "    <tr>\n",
       "      <th>1</th>\n",
       "      <td>1</td>\n",
       "      <td>1</td>\n",
       "      <td>1.0</td>\n",
       "      <td>38.0</td>\n",
       "      <td>71.2833</td>\n",
       "      <td>0.0</td>\n",
       "      <td>0</td>\n",
       "    </tr>\n",
       "    <tr>\n",
       "      <th>2</th>\n",
       "      <td>1</td>\n",
       "      <td>3</td>\n",
       "      <td>1.0</td>\n",
       "      <td>26.0</td>\n",
       "      <td>7.9250</td>\n",
       "      <td>1.0</td>\n",
       "      <td>1</td>\n",
       "    </tr>\n",
       "    <tr>\n",
       "      <th>3</th>\n",
       "      <td>1</td>\n",
       "      <td>1</td>\n",
       "      <td>1.0</td>\n",
       "      <td>35.0</td>\n",
       "      <td>53.1000</td>\n",
       "      <td>1.0</td>\n",
       "      <td>0</td>\n",
       "    </tr>\n",
       "    <tr>\n",
       "      <th>4</th>\n",
       "      <td>0</td>\n",
       "      <td>3</td>\n",
       "      <td>0.0</td>\n",
       "      <td>35.0</td>\n",
       "      <td>8.0500</td>\n",
       "      <td>1.0</td>\n",
       "      <td>1</td>\n",
       "    </tr>\n",
       "  </tbody>\n",
       "</table>\n",
       "</div>"
      ],
      "text/plain": [
       "   Survived  Pclass  Sex   Age     Fare  Embarked  Alone\n",
       "0         0       3  0.0  22.0   7.2500       1.0      0\n",
       "1         1       1  1.0  38.0  71.2833       0.0      0\n",
       "2         1       3  1.0  26.0   7.9250       1.0      1\n",
       "3         1       1  1.0  35.0  53.1000       1.0      0\n",
       "4         0       3  0.0  35.0   8.0500       1.0      1"
      ]
     },
     "execution_count": 20,
     "metadata": {},
     "output_type": "execute_result"
    }
   ],
   "source": [
    "df_train.head()"
   ]
  },
  {
   "cell_type": "code",
   "execution_count": 21,
   "id": "9e156d44",
   "metadata": {
    "execution": {
     "iopub.execute_input": "2023-04-16T13:31:04.415023Z",
     "iopub.status.busy": "2023-04-16T13:31:04.414605Z",
     "iopub.status.idle": "2023-04-16T13:31:04.452198Z",
     "shell.execute_reply": "2023-04-16T13:31:04.450338Z"
    },
    "papermill": {
     "duration": 0.058542,
     "end_time": "2023-04-16T13:31:04.456553",
     "exception": false,
     "start_time": "2023-04-16T13:31:04.398011",
     "status": "completed"
    },
    "tags": []
   },
   "outputs": [
    {
     "name": "stderr",
     "output_type": "stream",
     "text": [
      "C:\\Users\\acer\\AppData\\Local\\Temp\\ipykernel_6180\\209561967.py:3: DeprecationWarning: In a future version, `df.iloc[:, i] = newvals` will attempt to set the values inplace instead of always setting a new array. To retain the old behavior, use either `df[df.columns[i]] = newvals` or, if columns are non-unique, `df.isetitem(i, newvals)`\n",
      "  df_train.iloc[:,1:]=pd.DataFrame(knn.fit_transform(df_train.iloc[:,1:]),columns=df_train.iloc[:,1:].columns)\n"
     ]
    }
   ],
   "source": [
    "#lets impute the age column\n",
    "knn=KNNImputer(n_neighbors=9,weights='distance')\n",
    "df_train.iloc[:,1:]=pd.DataFrame(knn.fit_transform(df_train.iloc[:,1:]),columns=df_train.iloc[:,1:].columns)\n",
    "df_test=pd.DataFrame(knn.transform(df_test),columns=df_test.columns)"
   ]
  },
  {
   "cell_type": "code",
   "execution_count": 22,
   "id": "f42cf9f5",
   "metadata": {
    "execution": {
     "iopub.execute_input": "2023-04-16T13:31:04.530580Z",
     "iopub.status.busy": "2023-04-16T13:31:04.529849Z",
     "iopub.status.idle": "2023-04-16T13:31:04.783475Z",
     "shell.execute_reply": "2023-04-16T13:31:04.781642Z"
    },
    "papermill": {
     "duration": 0.293505,
     "end_time": "2023-04-16T13:31:04.786710",
     "exception": false,
     "start_time": "2023-04-16T13:31:04.493205",
     "status": "completed"
    },
    "tags": []
   },
   "outputs": [
    {
     "name": "stderr",
     "output_type": "stream",
     "text": [
      "C:\\Users\\acer\\AppData\\Local\\Temp\\ipykernel_6180\\171655192.py:1: UserWarning: \n",
      "\n",
      "`distplot` is a deprecated function and will be removed in seaborn v0.14.0.\n",
      "\n",
      "Please adapt your code to use either `displot` (a figure-level function with\n",
      "similar flexibility) or `kdeplot` (an axes-level function for kernel density plots).\n",
      "\n",
      "For a guide to updating your code to use the new functions, please see\n",
      "https://gist.github.com/mwaskom/de44147ed2974457ad6372750bbe5751\n",
      "\n",
      "  sns.distplot(df_train[df_train['Survived']==1]['Age'], hist=False)\n",
      "C:\\Users\\acer\\AppData\\Local\\Temp\\ipykernel_6180\\171655192.py:2: UserWarning: \n",
      "\n",
      "`distplot` is a deprecated function and will be removed in seaborn v0.14.0.\n",
      "\n",
      "Please adapt your code to use either `displot` (a figure-level function with\n",
      "similar flexibility) or `kdeplot` (an axes-level function for kernel density plots).\n",
      "\n",
      "For a guide to updating your code to use the new functions, please see\n",
      "https://gist.github.com/mwaskom/de44147ed2974457ad6372750bbe5751\n",
      "\n",
      "  sns.distplot(df_train[df_train['Survived']==0]['Age'], hist=False, color='red')\n"
     ]
    },
    {
     "data": {
      "text/plain": [
       "<Axes: xlabel='Age', ylabel='Density'>"
      ]
     },
     "execution_count": 22,
     "metadata": {},
     "output_type": "execute_result"
    },
    {
     "data": {
      "image/png": "[encoded data removed]",
      "text/plain": [
       "<Figure size 640x480 with 1 Axes>"
      ]
     },
     "metadata": {},
     "output_type": "display_data"
    }
   ],
   "source": [
    "sns.distplot(df_train[df_train['Survived']==1]['Age'], hist=False)\n",
    "sns.distplot(df_train[df_train['Survived']==0]['Age'], hist=False, color='red')"
   ]
  },
  {
   "cell_type": "code",
   "execution_count": 23,
   "id": "bef91bd0",
   "metadata": {
    "execution": {
     "iopub.execute_input": "2023-04-16T13:31:04.818231Z",
     "iopub.status.busy": "2023-04-16T13:31:04.817769Z",
     "iopub.status.idle": "2023-04-16T13:31:04.828245Z",
     "shell.execute_reply": "2023-04-16T13:31:04.826758Z"
    },
    "papermill": {
     "duration": 0.030446,
     "end_time": "2023-04-16T13:31:04.831587",
     "exception": false,
     "start_time": "2023-04-16T13:31:04.801141",
     "status": "completed"
    },
    "tags": []
   },
   "outputs": [],
   "source": [
    "from sklearn.preprocessing import KBinsDiscretizer\n",
    "kb=KBinsDiscretizer(n_bins=4, strategy='uniform', encode='ordinal')\n",
    "df_train['Age']=kb.fit_transform(df_train['Age'].values.reshape(-1, 1))\n",
    "df_test['Age']=kb.transform(df_test['Age'].values.reshape(-1, 1))"
   ]
  },
  {
   "cell_type": "code",
   "execution_count": 24,
   "id": "e7ee645c",
   "metadata": {
    "execution": {
     "iopub.execute_input": "2023-04-16T13:31:04.864372Z",
     "iopub.status.busy": "2023-04-16T13:31:04.863935Z",
     "iopub.status.idle": "2023-04-16T13:31:04.874711Z",
     "shell.execute_reply": "2023-04-16T13:31:04.873244Z"
    },
    "papermill": {
     "duration": 0.029973,
     "end_time": "2023-04-16T13:31:04.877280",
     "exception": false,
     "start_time": "2023-04-16T13:31:04.847307",
     "status": "completed"
    },
    "tags": []
   },
   "outputs": [
    {
     "data": {
      "text/plain": [
       "Survived    1.000000\n",
       "Pclass     -0.338481\n",
       "Sex         0.543351\n",
       "Age        -0.082694\n",
       "Fare        0.257307\n",
       "Embarked   -0.131042\n",
       "Alone      -0.203367\n",
       "Name: Survived, dtype: float64"
      ]
     },
     "execution_count": 24,
     "metadata": {},
     "output_type": "execute_result"
    }
   ],
   "source": [
    "df_train.corr()['Survived']"
   ]
  },
  {
   "cell_type": "code",
   "execution_count": 25,
   "id": "51148487",
   "metadata": {
    "execution": {
     "iopub.execute_input": "2023-04-16T13:31:04.911698Z",
     "iopub.status.busy": "2023-04-16T13:31:04.911236Z",
     "iopub.status.idle": "2023-04-16T13:31:04.917422Z",
     "shell.execute_reply": "2023-04-16T13:31:04.916101Z"
    },
    "papermill": {
     "duration": 0.026195,
     "end_time": "2023-04-16T13:31:04.920412",
     "exception": false,
     "start_time": "2023-04-16T13:31:04.894217",
     "status": "completed"
    },
    "tags": []
   },
   "outputs": [],
   "source": [
    "X_train=df_train.iloc[:, 1:]\n",
    "y_train=df_train.iloc[:,0]\n",
    "X_test=df_test"
   ]
  },
  {
   "cell_type": "code",
   "execution_count": 26,
   "id": "78be6a0e",
   "metadata": {
    "execution": {
     "iopub.execute_input": "2023-04-16T13:31:04.953157Z",
     "iopub.status.busy": "2023-04-16T13:31:04.952205Z",
     "iopub.status.idle": "2023-04-16T13:31:05.011318Z",
     "shell.execute_reply": "2023-04-16T13:31:05.009552Z"
    },
    "papermill": {
     "duration": 0.079074,
     "end_time": "2023-04-16T13:31:05.014630",
     "exception": false,
     "start_time": "2023-04-16T13:31:04.935556",
     "status": "completed"
    },
    "tags": []
   },
   "outputs": [],
   "source": [
    "from sklearn.tree import DecisionTreeClassifier\n",
    "from sklearn.model_selection import GridSearchCV\n",
    "clf=DecisionTreeClassifier()\n",
    "param_dist={\n",
    "    'splitter':['random','best'],\n",
    "    'criterion':['gini','entropy'],\n",
    "    'max_depth':[1,2,3,4,5,6,7,None],\n",
    "    'max_features':[2,3,4,5,6]\n",
    "}\n",
    "from sklearn.model_selection import GridSearchCV\n",
    "grid=GridSearchCV(clf, param_dist, cv=5)"
   ]
  },
  {
   "cell_type": "code",
   "execution_count": 27,
   "id": "854a89cb",
   "metadata": {
    "execution": {
     "iopub.execute_input": "2023-04-16T13:31:05.046990Z",
     "iopub.status.busy": "2023-04-16T13:31:05.046521Z",
     "iopub.status.idle": "2023-04-16T13:31:08.710663Z",
     "shell.execute_reply": "2023-04-16T13:31:08.708653Z"
    },
    "papermill": {
     "duration": 3.684166,
     "end_time": "2023-04-16T13:31:08.713991",
     "exception": false,
     "start_time": "2023-04-16T13:31:05.029825",
     "status": "completed"
    },
    "tags": []
   },
   "outputs": [
    {
     "data": {
      "text/html": [
       "<style>#sk-container-id-1 {color: black;background-color: white;}#sk-container-id-1 pre{padding: 0;}#sk-container-id-1 div.sk-toggleable {background-color: white;}#sk-container-id-1 label.sk-toggleable__label {cursor: pointer;display: block;width: 100%;margin-bottom: 0;padding: 0.3em;box-sizing: border-box;text-align: center;}#sk-container-id-1 label.sk-toggleable__label-arrow:before {content: \"▸\";float: left;margin-right: 0.25em;color: #696969;}#sk-container-id-1 label.sk-toggleable__label-arrow:hover:before {color: black;}#sk-container-id-1 div.sk-estimator:hover label.sk-toggleable__label-arrow:before {color: black;}#sk-container-id-1 div.sk-toggleable__content {max-height: 0;max-width: 0;overflow: hidden;text-align: left;background-color: #f0f8ff;}#sk-container-id-1 div.sk-toggleable__content pre {margin: 0.2em;color: black;border-radius: 0.25em;background-color: #f0f8ff;}#sk-container-id-1 input.sk-toggleable__control:checked~div.sk-toggleable__content {max-height: 200px;max-width: 100%;overflow: auto;}#sk-container-id-1 input.sk-toggleable__control:checked~label.sk-toggleable__label-arrow:before {content: \"▾\";}#sk-container-id-1 div.sk-estimator input.sk-toggleable__control:checked~label.sk-toggleable__label {background-color: #d4ebff;}#sk-container-id-1 div.sk-label input.sk-toggleable__control:checked~label.sk-toggleable__label {background-color: #d4ebff;}#sk-container-id-1 input.sk-hidden--visually {border: 0;clip: rect(1px 1px 1px 1px);clip: rect(1px, 1px, 1px, 1px);height: 1px;margin: -1px;overflow: hidden;padding: 0;position: absolute;width: 1px;}#sk-container-id-1 div.sk-estimator {font-family: monospace;background-color: #f0f8ff;border: 1px dotted black;border-radius: 0.25em;box-sizing: border-box;margin-bottom: 0.5em;}#sk-container-id-1 div.sk-estimator:hover {background-color: #d4ebff;}#sk-container-id-1 div.sk-parallel-item::after {content: \"\";width: 100%;border-bottom: 1px solid gray;flex-grow: 1;}#sk-container-id-1 div.sk-label:hover label.sk-toggleable__label {background-color: #d4ebff;}#sk-container-id-1 div.sk-serial::before {content: \"\";position: absolute;border-left: 1px solid gray;box-sizing: border-box;top: 0;bottom: 0;left: 50%;z-index: 0;}#sk-container-id-1 div.sk-serial {display: flex;flex-direction: column;align-items: center;background-color: white;padding-right: 0.2em;padding-left: 0.2em;position: relative;}#sk-container-id-1 div.sk-item {position: relative;z-index: 1;}#sk-container-id-1 div.sk-parallel {display: flex;align-items: stretch;justify-content: center;background-color: white;position: relative;}#sk-container-id-1 div.sk-item::before, #sk-container-id-1 div.sk-parallel-item::before {content: \"\";position: absolute;border-left: 1px solid gray;box-sizing: border-box;top: 0;bottom: 0;left: 50%;z-index: -1;}#sk-container-id-1 div.sk-parallel-item {display: flex;flex-direction: column;z-index: 1;position: relative;background-color: white;}#sk-container-id-1 div.sk-parallel-item:first-child::after {align-self: flex-end;width: 50%;}#sk-container-id-1 div.sk-parallel-item:last-child::after {align-self: flex-start;width: 50%;}#sk-container-id-1 div.sk-parallel-item:only-child::after {width: 0;}#sk-container-id-1 div.sk-dashed-wrapped {border: 1px dashed gray;margin: 0 0.4em 0.5em 0.4em;box-sizing: border-box;padding-bottom: 0.4em;background-color: white;}#sk-container-id-1 div.sk-label label {font-family: monospace;font-weight: bold;display: inline-block;line-height: 1.2em;}#sk-container-id-1 div.sk-label-container {text-align: center;}#sk-container-id-1 div.sk-container {/* jupyter's `normalize.less` sets `[hidden] { display: none; }` but bootstrap.min.css set `[hidden] { display: none !important; }` so we also need the `!important` here to be able to override the default hidden behavior on the sphinx rendered scikit-learn.org. See: https://github.com/scikit-learn/scikit-learn/issues/21755 */display: inline-block !important;position: relative;}#sk-container-id-1 div.sk-text-repr-fallback {display: none;}</style><div id=\"sk-container-id-1\" class=\"sk-top-container\"><div class=\"sk-text-repr-fallback\"><pre>GridSearchCV(cv=5, estimator=DecisionTreeClassifier(),\n",
       "             param_grid={&#x27;criterion&#x27;: [&#x27;gini&#x27;, &#x27;entropy&#x27;],\n",
       "                         &#x27;max_depth&#x27;: [1, 2, 3, 4, 5, 6, 7, None],\n",
       "                         &#x27;max_features&#x27;: [2, 3, 4, 5, 6],\n",
       "                         &#x27;splitter&#x27;: [&#x27;random&#x27;, &#x27;best&#x27;]})</pre><b>In a Jupyter environment, please rerun this cell to show the HTML representation or trust the notebook. <br />On GitHub, the HTML representation is unable to render, please try loading this page with nbviewer.org.</b></div><div class=\"sk-container\" hidden><div class=\"sk-item sk-dashed-wrapped\"><div class=\"sk-label-container\"><div class=\"sk-label sk-toggleable\"><input class=\"sk-toggleable__control sk-hidden--visually\" id=\"sk-estimator-id-1\" type=\"checkbox\" ><label for=\"sk-estimator-id-1\" class=\"sk-toggleable__label sk-toggleable__label-arrow\">GridSearchCV</label><div class=\"sk-toggleable__content\"><pre>GridSearchCV(cv=5, estimator=DecisionTreeClassifier(),\n",
       "             param_grid={&#x27;criterion&#x27;: [&#x27;gini&#x27;, &#x27;entropy&#x27;],\n",
       "                         &#x27;max_depth&#x27;: [1, 2, 3, 4, 5, 6, 7, None],\n",
       "                         &#x27;max_features&#x27;: [2, 3, 4, 5, 6],\n",
       "                         &#x27;splitter&#x27;: [&#x27;random&#x27;, &#x27;best&#x27;]})</pre></div></div></div><div class=\"sk-parallel\"><div class=\"sk-parallel-item\"><div class=\"sk-item\"><div class=\"sk-label-container\"><div class=\"sk-label sk-toggleable\"><input class=\"sk-toggleable__control sk-hidden--visually\" id=\"sk-estimator-id-2\" type=\"checkbox\" ><label for=\"sk-estimator-id-2\" class=\"sk-toggleable__label sk-toggleable__label-arrow\">estimator: DecisionTreeClassifier</label><div class=\"sk-toggleable__content\"><pre>DecisionTreeClassifier()</pre></div></div></div><div class=\"sk-serial\"><div class=\"sk-item\"><div class=\"sk-estimator sk-toggleable\"><input class=\"sk-toggleable__control sk-hidden--visually\" id=\"sk-estimator-id-3\" type=\"checkbox\" ><label for=\"sk-estimator-id-3\" class=\"sk-toggleable__label sk-toggleable__label-arrow\">DecisionTreeClassifier</label><div class=\"sk-toggleable__content\"><pre>DecisionTreeClassifier()</pre></div></div></div></div></div></div></div></div></div></div>"
      ],
      "text/plain": [
       "GridSearchCV(cv=5, estimator=DecisionTreeClassifier(),\n",
       "             param_grid={'criterion': ['gini', 'entropy'],\n",
       "                         'max_depth': [1, 2, 3, 4, 5, 6, 7, None],\n",
       "                         'max_features': [2, 3, 4, 5, 6],\n",
       "                         'splitter': ['random', 'best']})"
      ]
     },
     "execution_count": 27,
     "metadata": {},
     "output_type": "execute_result"
    }
   ],
   "source": [
    "grid.fit(X_train, y_train)"
   ]
  },
  {
   "cell_type": "code",
   "execution_count": 28,
   "id": "f1b9885c",
   "metadata": {
    "execution": {
     "iopub.execute_input": "2023-04-16T13:31:08.748275Z",
     "iopub.status.busy": "2023-04-16T13:31:08.747524Z",
     "iopub.status.idle": "2023-04-16T13:31:08.758073Z",
     "shell.execute_reply": "2023-04-16T13:31:08.756382Z"
    },
    "papermill": {
     "duration": 0.031045,
     "end_time": "2023-04-16T13:31:08.761154",
     "exception": false,
     "start_time": "2023-04-16T13:31:08.730109",
     "status": "completed"
    },
    "tags": []
   },
   "outputs": [
    {
     "data": {
      "text/plain": [
       "({'criterion': 'entropy',\n",
       "  'max_depth': 7,\n",
       "  'max_features': 5,\n",
       "  'splitter': 'best'},\n",
       " 0.8103508882053857)"
      ]
     },
     "execution_count": 28,
     "metadata": {},
     "output_type": "execute_result"
    }
   ],
   "source": [
    "grid.best_params_, grid.best_score_"
   ]
  },
  {
   "cell_type": "code",
   "execution_count": 29,
   "id": "b5059c80",
   "metadata": {
    "execution": {
     "iopub.execute_input": "2023-04-16T13:31:08.794750Z",
     "iopub.status.busy": "2023-04-16T13:31:08.794238Z",
     "iopub.status.idle": "2023-04-16T13:31:08.807897Z",
     "shell.execute_reply": "2023-04-16T13:31:08.806482Z"
    },
    "papermill": {
     "duration": 0.034168,
     "end_time": "2023-04-16T13:31:08.811165",
     "exception": false,
     "start_time": "2023-04-16T13:31:08.776997",
     "status": "completed"
    },
    "tags": []
   },
   "outputs": [],
   "source": [
    "clf=DecisionTreeClassifier(criterion='gini', max_depth=3, max_features=6, splitter='best')\n",
    "clf.fit(X_train, y_train)\n",
    "y_test=clf.predict(X_test)\n",
    "#now all i have to do is submit the dataset"
   ]
  },
  {
   "cell_type": "code",
   "execution_count": 31,
   "id": "504e0da7",
   "metadata": {
    "execution": {
     "iopub.execute_input": "2023-04-16T13:31:08.845749Z",
     "iopub.status.busy": "2023-04-16T13:31:08.845175Z",
     "iopub.status.idle": "2023-04-16T13:31:08.870678Z",
     "shell.execute_reply": "2023-04-16T13:31:08.868817Z"
    },
    "papermill": {
     "duration": 0.046932,
     "end_time": "2023-04-16T13:31:08.874108",
     "exception": false,
     "start_time": "2023-04-16T13:31:08.827176",
     "status": "completed"
    },
    "tags": []
   },
   "outputs": [
    {
     "data": {
      "text/html": [
       "<div>\n",
       "<style scoped>\n",
       "    .dataframe tbody tr th:only-of-type {\n",
       "        vertical-align: middle;\n",
       "    }\n",
       "\n",
       "    .dataframe tbody tr th {\n",
       "        vertical-align: top;\n",
       "    }\n",
       "\n",
       "    .dataframe thead th {\n",
       "        text-align: right;\n",
       "    }\n",
       "</style>\n",
       "<table border=\"1\" class=\"dataframe\">\n",
       "  <thead>\n",
       "    <tr style=\"text-align: right;\">\n",
       "      <th></th>\n",
       "      <th>PassengerId</th>\n",
       "      <th>Sex</th>\n",
       "    </tr>\n",
       "  </thead>\n",
       "  <tbody>\n",
       "    <tr>\n",
       "      <th>0</th>\n",
       "      <td>892</td>\n",
       "      <td>male</td>\n",
       "    </tr>\n",
       "    <tr>\n",
       "      <th>1</th>\n",
       "      <td>893</td>\n",
       "      <td>female</td>\n",
       "    </tr>\n",
       "    <tr>\n",
       "      <th>2</th>\n",
       "      <td>894</td>\n",
       "      <td>male</td>\n",
       "    </tr>\n",
       "    <tr>\n",
       "      <th>3</th>\n",
       "      <td>895</td>\n",
       "      <td>male</td>\n",
       "    </tr>\n",
       "    <tr>\n",
       "      <th>4</th>\n",
       "      <td>896</td>\n",
       "      <td>female</td>\n",
       "    </tr>\n",
       "    <tr>\n",
       "      <th>...</th>\n",
       "      <td>...</td>\n",
       "      <td>...</td>\n",
       "    </tr>\n",
       "    <tr>\n",
       "      <th>413</th>\n",
       "      <td>1305</td>\n",
       "      <td>male</td>\n",
       "    </tr>\n",
       "    <tr>\n",
       "      <th>414</th>\n",
       "      <td>1306</td>\n",
       "      <td>female</td>\n",
       "    </tr>\n",
       "    <tr>\n",
       "      <th>415</th>\n",
       "      <td>1307</td>\n",
       "      <td>male</td>\n",
       "    </tr>\n",
       "    <tr>\n",
       "      <th>416</th>\n",
       "      <td>1308</td>\n",
       "      <td>male</td>\n",
       "    </tr>\n",
       "    <tr>\n",
       "      <th>417</th>\n",
       "      <td>1309</td>\n",
       "      <td>male</td>\n",
       "    </tr>\n",
       "  </tbody>\n",
       "</table>\n",
       "<p>418 rows × 2 columns</p>\n",
       "</div>"
      ],
      "text/plain": [
       "     PassengerId     Sex\n",
       "0            892    male\n",
       "1            893  female\n",
       "2            894    male\n",
       "3            895    male\n",
       "4            896  female\n",
       "..           ...     ...\n",
       "413         1305    male\n",
       "414         1306  female\n",
       "415         1307    male\n",
       "416         1308    male\n",
       "417         1309    male\n",
       "\n",
       "[418 rows x 2 columns]"
      ]
     },
     "execution_count": 31,
     "metadata": {},
     "output_type": "execute_result"
    }
   ],
   "source": [
    "final_submission=pd.read_csv(\"test.csv\")[['PassengerId','Sex']]\n",
    "final_submission"
   ]
  },
  {
   "cell_type": "code",
   "execution_count": 32,
   "id": "d1b07fec",
   "metadata": {
    "execution": {
     "iopub.execute_input": "2023-04-16T13:31:08.910877Z",
     "iopub.status.busy": "2023-04-16T13:31:08.910400Z",
     "iopub.status.idle": "2023-04-16T13:31:08.917546Z",
     "shell.execute_reply": "2023-04-16T13:31:08.915878Z"
    },
    "papermill": {
     "duration": 0.029033,
     "end_time": "2023-04-16T13:31:08.920709",
     "exception": false,
     "start_time": "2023-04-16T13:31:08.891676",
     "status": "completed"
    },
    "tags": []
   },
   "outputs": [],
   "source": [
    "final_submission['Sex']=y_test"
   ]
  },
  {
   "cell_type": "code",
   "execution_count": 33,
   "id": "9e05d6ed",
   "metadata": {
    "execution": {
     "iopub.execute_input": "2023-04-16T13:31:08.954185Z",
     "iopub.status.busy": "2023-04-16T13:31:08.953339Z",
     "iopub.status.idle": "2023-04-16T13:31:08.958996Z",
     "shell.execute_reply": "2023-04-16T13:31:08.957846Z"
    },
    "papermill": {
     "duration": 0.025475,
     "end_time": "2023-04-16T13:31:08.961551",
     "exception": false,
     "start_time": "2023-04-16T13:31:08.936076",
     "status": "completed"
    },
    "tags": []
   },
   "outputs": [],
   "source": [
    "final_submission.columns=['PassengerId', 'Survived']"
   ]
  },
  {
   "cell_type": "code",
   "execution_count": 34,
   "id": "7ff498d4",
   "metadata": {
    "execution": {
     "iopub.execute_input": "2023-04-16T13:31:08.995680Z",
     "iopub.status.busy": "2023-04-16T13:31:08.995102Z",
     "iopub.status.idle": "2023-04-16T13:31:09.009736Z",
     "shell.execute_reply": "2023-04-16T13:31:09.008029Z"
    },
    "papermill": {
     "duration": 0.034992,
     "end_time": "2023-04-16T13:31:09.012380",
     "exception": false,
     "start_time": "2023-04-16T13:31:08.977388",
     "status": "completed"
    },
    "tags": []
   },
   "outputs": [
    {
     "data": {
      "text/html": [
       "<div>\n",
       "<style scoped>\n",
       "    .dataframe tbody tr th:only-of-type {\n",
       "        vertical-align: middle;\n",
       "    }\n",
       "\n",
       "    .dataframe tbody tr th {\n",
       "        vertical-align: top;\n",
       "    }\n",
       "\n",
       "    .dataframe thead th {\n",
       "        text-align: right;\n",
       "    }\n",
       "</style>\n",
       "<table border=\"1\" class=\"dataframe\">\n",
       "  <thead>\n",
       "    <tr style=\"text-align: right;\">\n",
       "      <th></th>\n",
       "      <th>PassengerId</th>\n",
       "      <th>Survived</th>\n",
       "    </tr>\n",
       "  </thead>\n",
       "  <tbody>\n",
       "    <tr>\n",
       "      <th>0</th>\n",
       "      <td>892</td>\n",
       "      <td>0</td>\n",
       "    </tr>\n",
       "    <tr>\n",
       "      <th>1</th>\n",
       "      <td>893</td>\n",
       "      <td>1</td>\n",
       "    </tr>\n",
       "    <tr>\n",
       "      <th>2</th>\n",
       "      <td>894</td>\n",
       "      <td>0</td>\n",
       "    </tr>\n",
       "    <tr>\n",
       "      <th>3</th>\n",
       "      <td>895</td>\n",
       "      <td>0</td>\n",
       "    </tr>\n",
       "    <tr>\n",
       "      <th>4</th>\n",
       "      <td>896</td>\n",
       "      <td>1</td>\n",
       "    </tr>\n",
       "  </tbody>\n",
       "</table>\n",
       "</div>"
      ],
      "text/plain": [
       "   PassengerId  Survived\n",
       "0          892         0\n",
       "1          893         1\n",
       "2          894         0\n",
       "3          895         0\n",
       "4          896         1"
      ]
     },
     "execution_count": 34,
     "metadata": {},
     "output_type": "execute_result"
    }
   ],
   "source": [
    "final_submission[0:5]"
   ]
  },
  {
   "cell_type": "code",
   "execution_count": 35,
   "id": "e214b1d6",
   "metadata": {
    "execution": {
     "iopub.execute_input": "2023-04-16T13:31:09.047092Z",
     "iopub.status.busy": "2023-04-16T13:31:09.046403Z",
     "iopub.status.idle": "2023-04-16T13:31:09.058993Z",
     "shell.execute_reply": "2023-04-16T13:31:09.057325Z"
    },
    "papermill": {
     "duration": 0.033278,
     "end_time": "2023-04-16T13:31:09.061841",
     "exception": false,
     "start_time": "2023-04-16T13:31:09.028563",
     "status": "completed"
    },
    "tags": []
   },
   "outputs": [],
   "source": [
    "final_submission.to_csv('titanic.csv', index=False)"
   ]
  },
  {
   "cell_type": "code",
   "execution_count": null,
   "id": "58cdbdd3",
   "metadata": {
    "papermill": {
     "duration": 0.015143,
     "end_time": "2023-04-16T13:31:09.092655",
     "exception": false,
     "start_time": "2023-04-16T13:31:09.077512",
     "status": "completed"
    },
    "tags": []
   },
   "outputs": [],
   "source": []
  }
 ],
 "metadata": {
  "kernelspec": {
   "display_name": "Python 3 (ipykernel)",
   "language": "python",
   "name": "python3"
  },
  "language_info": {
   "codemirror_mode": {
    "name": "ipython",
    "version": 3
   },
   "file_extension": ".py",
   "mimetype": "text/x-python",
   "name": "python",
   "nbconvert_exporter": "python",
   "pygments_lexer": "ipython3",
   "version": "3.10.9"
  },
  "papermill": {
   "default_parameters": {},
   "duration": 22.152261,
   "end_time": "2023-04-16T13:31:10.135596",
   "environment_variables": {},
   "exception": null,
   "input_path": "__notebook__.ipynb",
   "output_path": "__notebook__.ipynb",
   "parameters": {},
   "start_time": "2023-04-16T13:30:47.983335",
   "version": "2.4.0"
  }
 },
 "nbformat": 4,
 "nbformat_minor": 5
}
